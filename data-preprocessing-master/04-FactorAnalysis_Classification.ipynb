{
 "cells": [
  {
   "cell_type": "code",
   "execution_count": 38,
   "metadata": {},
   "outputs": [],
   "source": [
    "import pandas as pd\n",
    "import matplotlib.pyplot as plt\n",
    "\n",
    "from sklearn.model_selection import train_test_split\n",
    "from sklearn.linear_model import LogisticRegression\n",
    "\n",
    "from sklearn.decomposition import FactorAnalysis\n",
    "\n",
    "from sklearn.metrics import accuracy_score\n",
    "from sklearn.metrics import precision_score\n",
    "from sklearn.metrics import recall_score\n",
    "\n",
    "#dimensionality reduction on input features using Singular Value Decomposition (SVD)\n",
    "#It Extracts only significant features"
   ]
  },
  {
   "cell_type": "code",
   "execution_count": 39,
   "metadata": {},
   "outputs": [],
   "source": [
    "df = pd.read_csv('datasets/scaled_data.csv')"
   ]
  },
  {
   "cell_type": "code",
   "execution_count": 41,
   "metadata": {},
   "outputs": [
    {
     "data": {
      "text/html": [
       "<div>\n",
       "<style scoped>\n",
       "    .dataframe tbody tr th:only-of-type {\n",
       "        vertical-align: middle;\n",
       "    }\n",
       "\n",
       "    .dataframe tbody tr th {\n",
       "        vertical-align: top;\n",
       "    }\n",
       "\n",
       "    .dataframe thead th {\n",
       "        text-align: right;\n",
       "    }\n",
       "</style>\n",
       "<table border=\"1\" class=\"dataframe\">\n",
       "  <thead>\n",
       "    <tr style=\"text-align: right;\">\n",
       "      <th></th>\n",
       "      <th>Pregnancies</th>\n",
       "      <th>Glucose</th>\n",
       "      <th>BloodPressure</th>\n",
       "      <th>SkinThickness</th>\n",
       "      <th>Insulin</th>\n",
       "      <th>BMI</th>\n",
       "      <th>DiabetesPedigreeFunction</th>\n",
       "      <th>Age</th>\n",
       "      <th>Outcome</th>\n",
       "    </tr>\n",
       "  </thead>\n",
       "  <tbody>\n",
       "    <tr>\n",
       "      <th>0</th>\n",
       "      <td>0.639947</td>\n",
       "      <td>0.848324</td>\n",
       "      <td>0.149641</td>\n",
       "      <td>0.907270</td>\n",
       "      <td>-0.692891</td>\n",
       "      <td>0.204013</td>\n",
       "      <td>0.468492</td>\n",
       "      <td>1.425995</td>\n",
       "      <td>1</td>\n",
       "    </tr>\n",
       "    <tr>\n",
       "      <th>1</th>\n",
       "      <td>-0.844885</td>\n",
       "      <td>-1.123396</td>\n",
       "      <td>-0.160546</td>\n",
       "      <td>0.530902</td>\n",
       "      <td>-0.692891</td>\n",
       "      <td>-0.684422</td>\n",
       "      <td>-0.365061</td>\n",
       "      <td>-0.190672</td>\n",
       "      <td>0</td>\n",
       "    </tr>\n",
       "    <tr>\n",
       "      <th>2</th>\n",
       "      <td>1.233880</td>\n",
       "      <td>1.943724</td>\n",
       "      <td>-0.263941</td>\n",
       "      <td>-1.288212</td>\n",
       "      <td>-0.692891</td>\n",
       "      <td>-1.103255</td>\n",
       "      <td>0.604397</td>\n",
       "      <td>-0.105584</td>\n",
       "      <td>1</td>\n",
       "    </tr>\n",
       "    <tr>\n",
       "      <th>3</th>\n",
       "      <td>-0.844885</td>\n",
       "      <td>-0.998208</td>\n",
       "      <td>-0.160546</td>\n",
       "      <td>0.154533</td>\n",
       "      <td>0.123302</td>\n",
       "      <td>-0.494043</td>\n",
       "      <td>-0.920763</td>\n",
       "      <td>-1.041549</td>\n",
       "      <td>0</td>\n",
       "    </tr>\n",
       "    <tr>\n",
       "      <th>4</th>\n",
       "      <td>-1.141852</td>\n",
       "      <td>0.504055</td>\n",
       "      <td>-1.504687</td>\n",
       "      <td>0.907270</td>\n",
       "      <td>0.765836</td>\n",
       "      <td>1.409746</td>\n",
       "      <td>5.484909</td>\n",
       "      <td>-0.020496</td>\n",
       "      <td>1</td>\n",
       "    </tr>\n",
       "  </tbody>\n",
       "</table>\n",
       "</div>"
      ],
      "text/plain": [
       "   Pregnancies   Glucose  BloodPressure  SkinThickness   Insulin       BMI  \\\n",
       "0     0.639947  0.848324       0.149641       0.907270 -0.692891  0.204013   \n",
       "1    -0.844885 -1.123396      -0.160546       0.530902 -0.692891 -0.684422   \n",
       "2     1.233880  1.943724      -0.263941      -1.288212 -0.692891 -1.103255   \n",
       "3    -0.844885 -0.998208      -0.160546       0.154533  0.123302 -0.494043   \n",
       "4    -1.141852  0.504055      -1.504687       0.907270  0.765836  1.409746   \n",
       "\n",
       "   DiabetesPedigreeFunction       Age  Outcome  \n",
       "0                  0.468492  1.425995        1  \n",
       "1                 -0.365061 -0.190672        0  \n",
       "2                  0.604397 -0.105584        1  \n",
       "3                 -0.920763 -1.041549        0  \n",
       "4                  5.484909 -0.020496        1  "
      ]
     },
     "execution_count": 41,
     "metadata": {},
     "output_type": "execute_result"
    }
   ],
   "source": [
    "df.head()"
   ]
  },
  {
   "cell_type": "code",
   "execution_count": 42,
   "metadata": {},
   "outputs": [
    {
     "data": {
      "text/plain": [
       "['Pregnancies',\n",
       " 'Glucose',\n",
       " 'BloodPressure',\n",
       " 'SkinThickness',\n",
       " 'Insulin',\n",
       " 'BMI',\n",
       " 'DiabetesPedigreeFunction',\n",
       " 'Age']"
      ]
     },
     "execution_count": 42,
     "metadata": {},
     "output_type": "execute_result"
    }
   ],
   "source": [
    "FEATURES = list(df.columns[:-1])\n",
    "FEATURES"
   ]
  },
  {
   "cell_type": "code",
   "execution_count": 43,
   "metadata": {},
   "outputs": [],
   "source": [
    "LABEL = 'Outcome'"
   ]
  },
  {
   "cell_type": "code",
   "execution_count": 44,
   "metadata": {},
   "outputs": [],
   "source": [
    "def build_model(n_components):\n",
    "    X = df[FEATURES]\n",
    "    y = df[LABEL]\n",
    "    \n",
    "    fa_obj = FactorAnalysis(n_components=n_components, random_state=10, max_iter=10000)\n",
    "    \n",
    "    x_new = fa_obj.fit_transform(X,y)\n",
    "    X = pd.DataFrame(x_new)\n",
    "    \n",
    "    x_train, x_test, y_train, y_test = train_test_split(X,y, test_size=0.2)\n",
    "    \n",
    "    model = LogisticRegression(solver='liblinear', max_iter=1000)\n",
    "    \n",
    "    model.fit(x_train,y_train)\n",
    "    \n",
    "    y_pred = model.predict(x_test)\n",
    "    \n",
    "    \n",
    "    pred_results = pd.DataFrame({'y_test': y_test, 'y_pred': y_pred})\n",
    "    \n",
    "    \n",
    "    acc = accuracy_score(y_test, y_pred)\n",
    "    prec = precision_score(y_test, y_pred)\n",
    "    recall = recall_score(y_test, y_pred)\n",
    "    \n",
    "    \n",
    "    return { 'fact_a_object': fa_obj,\n",
    "             'transform_x': X,\n",
    "             'accuracy': acc,\n",
    "             'precision': prec,\n",
    "             'recall': recall \n",
    "           }\n",
    " \n",
    "######    \n",
    "def compare_results(result_dict):\n",
    "    \n",
    "    for key in result_dict:\n",
    "        print('TEST:', key)\n",
    "        \n",
    "        print()\n",
    "        print('accuracy_score', result_dict[key]['accuracy'])\n",
    "        print('precision_score', result_dict[key]['precision'])\n",
    "        print('recall_score', result_dict[key]['recall'])\n",
    "        print()\n",
    "    \n",
    "#####\n",
    "def visualize_results(result_dict):\n",
    "    n_components = list(range(0,8))\n",
    "    acc = [result_dict[key]['accuracy'] for key in result_dict]\n",
    "    precision = [result_dict[key]['precision'] for key in result_dict]\n",
    "    recall = [result_dict[key]['recall'] for key in result_dict]\n",
    "    \n",
    "    plt.figure(figsize=(12,10))\n",
    "    plt.plot(n_components, acc, label='Accuracy')\n",
    "    plt.plot(n_components, precision, label='Percision')\n",
    "    plt.plot(n_components, recall, label='Recall')\n",
    "    \n",
    "    plt.xlabel('n_compontents')\n",
    "    plt.ylabel('score')\n",
    "    \n",
    "    plt.legend()\n",
    "    plt.show()"
   ]
  },
  {
   "cell_type": "code",
   "execution_count": 45,
   "metadata": {},
   "outputs": [],
   "source": [
    "result_dict = {}\n",
    "for i in range(1,9):\n",
    "    result_dict['n_components - ' + str(i) ] = build_model(i)"
   ]
  },
  {
   "cell_type": "code",
   "execution_count": 46,
   "metadata": {},
   "outputs": [
    {
     "name": "stdout",
     "output_type": "stream",
     "text": [
      "TEST: n_components - 1\n",
      "\n",
      "accuracy_score 0.7272727272727273\n",
      "precision_score 0.6521739130434783\n",
      "recall_score 0.30612244897959184\n",
      "\n",
      "TEST: n_components - 2\n",
      "\n",
      "accuracy_score 0.6883116883116883\n",
      "precision_score 0.76\n",
      "recall_score 0.3114754098360656\n",
      "\n",
      "TEST: n_components - 3\n",
      "\n",
      "accuracy_score 0.6688311688311688\n",
      "precision_score 0.5405405405405406\n",
      "recall_score 0.37037037037037035\n",
      "\n",
      "TEST: n_components - 4\n",
      "\n",
      "accuracy_score 0.7207792207792207\n",
      "precision_score 0.6808510638297872\n",
      "recall_score 0.5333333333333333\n",
      "\n",
      "TEST: n_components - 5\n",
      "\n",
      "accuracy_score 0.7792207792207793\n",
      "precision_score 0.6923076923076923\n",
      "recall_score 0.5510204081632653\n",
      "\n",
      "TEST: n_components - 6\n",
      "\n",
      "accuracy_score 0.7077922077922078\n",
      "precision_score 0.65\n",
      "recall_score 0.45614035087719296\n",
      "\n",
      "TEST: n_components - 7\n",
      "\n",
      "accuracy_score 0.7402597402597403\n",
      "precision_score 0.7142857142857143\n",
      "recall_score 0.5172413793103449\n",
      "\n",
      "TEST: n_components - 8\n",
      "\n",
      "accuracy_score 0.6948051948051948\n",
      "precision_score 0.6071428571428571\n",
      "recall_score 0.32075471698113206\n",
      "\n"
     ]
    }
   ],
   "source": [
    "compare_results(result_dict)"
   ]
  },
  {
   "cell_type": "code",
   "execution_count": 47,
   "metadata": {},
   "outputs": [
    {
     "data": {
      "image/png": "[encoded data removed]",
      "text/plain": [
       "<Figure size 864x720 with 1 Axes>"
      ]
     },
     "metadata": {},
     "output_type": "display_data"
    }
   ],
   "source": [
    "visualize_results(result_dict)"
   ]
  },
  {
   "cell_type": "code",
   "execution_count": null,
   "metadata": {},
   "outputs": [],
   "source": []
  }
 ],
 "metadata": {
  "kernelspec": {
   "display_name": "Python 3",
   "language": "python",
   "name": "python3"
  },
  "language_info": {
   "codemirror_mode": {
    "name": "ipython",
    "version": 3
   },
   "file_extension": ".py",
   "mimetype": "text/x-python",
   "name": "python",
   "nbconvert_exporter": "python",
   "pygments_lexer": "ipython3",
   "version": "3.6.8"
  }
 },
 "nbformat": 4,
 "nbformat_minor": 2
}
